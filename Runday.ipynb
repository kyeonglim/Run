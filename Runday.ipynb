{
  "nbformat": 4,
  "nbformat_minor": 0,
  "metadata": {
    "colab": {
      "provenance": [],
      "authorship_tag": "ABX9TyNBGaCBsfs5j9sN16efVElX",
      "include_colab_link": true
    },
    "kernelspec": {
      "name": "python3",
      "display_name": "Python 3"
    },
    "language_info": {
      "name": "python"
    }
  },
  "cells": [
    {
      "cell_type": "markdown",
      "metadata": {
        "id": "view-in-github",
        "colab_type": "text"
      },
      "source": [
        "<a href=\"https://colab.research.google.com/github/kyeonglim/Run/blob/main/Runday.ipynb\" target=\"_parent\"><img src=\"https://colab.research.google.com/assets/colab-badge.svg\" alt=\"Open In Colab\"/></a>"
      ]
    },
    {
      "cell_type": "markdown",
      "source": [
        "기본 용어 설명\n",
        "\n",
        "track: 실제 이동 경로\n",
        "\n",
        "segment: 한 track을 나눈 부분 (각 segment는 points 리스트를 포함하며, 그 안에는 여러 개의 트랙포인트 존재.)\n",
        "\n",
        "point : 위도, 경도, 고도, 시간 등의 정보\n"
      ],
      "metadata": {
        "id": "NBaYRYp63art"
      }
    },
    {
      "cell_type": "code",
      "source": [
        "##point 정보 (위도, 경도, 고도, 시간) 추출\n",
        "\n",
        "#!pip install gpxpy\n",
        "import gpxpy\n",
        "\n",
        "gpx_file = open('RunDay_20250201_01.gpx', 'r')\n",
        "gpx = gpxpy.parse(gpx_file)\n",
        "\n",
        "for track in gpx.tracks: #gpx.tracks: track 객체들의 리스트\n",
        "    for segment in track.segments: #track.segments: segment 객체들의 리스트\n",
        "        for point in segment.points: #segment.points: 트랙 포인트 리스트 // 반복 시 point가 다음 포인트로 업데이트\n",
        "            print(f'latitude(위도): {round(point.latitude,1)}, longitude(경도): {round(point.longitude,1)} elevation(고도): {round(point.elevation,1)}, time(시간): {point.time,1}')\n",
        "\n",
        "# print('GPX:', gpx.to_xml())"
      ],
      "metadata": {
        "id": "tXtVXwsIlcka"
      },
      "execution_count": null,
      "outputs": []
    }
  ]
}