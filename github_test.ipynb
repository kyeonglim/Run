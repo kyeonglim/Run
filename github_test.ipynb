{
  "nbformat": 4,
  "nbformat_minor": 0,
  "metadata": {
    "colab": {
      "provenance": [],
      "authorship_tag": "ABX9TyPr7/JCqXPZUz/LDTWvUCI+",
      "include_colab_link": true
    },
    "kernelspec": {
      "name": "python3",
      "display_name": "Python 3"
    },
    "language_info": {
      "name": "python"
    }
  },
  "cells": [
    {
      "cell_type": "markdown",
      "metadata": {
        "id": "view-in-github",
        "colab_type": "text"
      },
      "source": [
        "<a href=\"https://colab.research.google.com/github/kyeonglim/Run/blob/main/github_test.ipynb\" target=\"_parent\"><img src=\"https://colab.research.google.com/assets/colab-badge.svg\" alt=\"Open In Colab\"/></a>"
      ]
    },
    {
      "cell_type": "code",
      "execution_count": 2,
      "metadata": {
        "colab": {
          "base_uri": "https://localhost:8080/"
        },
        "id": "WHntpeo78bPK",
        "outputId": "d58ed2ce-53a2-4d56-ff9d-d901d9e95682"
      },
      "outputs": [
        {
          "output_type": "stream",
          "name": "stdout",
          "text": [
            "   a\n",
            "0  b\n",
            "1  c\n"
          ]
        }
      ],
      "source": [
        "import pandas as pd\n",
        "df = pd.read_excel('testfile2.xlsx')\n",
        "print(df)"
      ]
    },
    {
      "cell_type": "code",
      "source": [
        "testtest"
      ],
      "metadata": {
        "id": "IwsssStZ9GQL"
      },
      "execution_count": null,
      "outputs": []
    }
  ]
}